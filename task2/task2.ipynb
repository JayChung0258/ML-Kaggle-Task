{
 "cells": [
  {
   "cell_type": "code",
   "execution_count": 152,
   "metadata": {},
   "outputs": [],
   "source": [
    "import pandas as pd\n",
    "import sklearn\n",
    "import time\n",
    "import numpy as np\n",
    "import matplotlib.pyplot as plt\n",
    "import seaborn as sns\n",
    "from xgboost import XGBClassifier\n",
    "from numpy import reshape\n",
    "from sklearn import metrics\n",
    "from collections import Counter "
   ]
  },
  {
   "cell_type": "code",
   "execution_count": 153,
   "metadata": {},
   "outputs": [],
   "source": [
    "data = pd.read_csv('train_dec04_task2.csv')"
   ]
  },
  {
   "cell_type": "code",
   "execution_count": 154,
   "metadata": {},
   "outputs": [],
   "source": [
    "# split train and test data\n",
    "from sklearn.model_selection import train_test_split\n",
    "train_data, test_data = train_test_split(data, test_size=0.2, random_state=0)"
   ]
  },
  {
   "cell_type": "code",
   "execution_count": 155,
   "metadata": {},
   "outputs": [],
   "source": [
    "# split features and labels\n",
    "X_train = train_data.iloc[:, :7]\n",
    "y_train = train_data.iloc[:, 7]\n",
    "\n",
    "X_test = test_data.iloc[:, :7]\n",
    "y_test = test_data.iloc[:, 7]\n",
    "\n",
    "pred_data = pd.read_csv('test_dec04_task2_only_features.csv')"
   ]
  },
  {
   "cell_type": "code",
   "execution_count": 156,
   "metadata": {},
   "outputs": [
    {
     "data": {
      "text/plain": [
       "Counter({'C': 1209, 'B': 1600, 'A': 791})"
      ]
     },
     "execution_count": 156,
     "metadata": {},
     "output_type": "execute_result"
    }
   ],
   "source": [
    "# check the imbalance of the data\n",
    "Counter(y_train)"
   ]
  },
  {
   "cell_type": "code",
   "execution_count": 157,
   "metadata": {},
   "outputs": [
    {
     "name": "stdout",
     "output_type": "stream",
     "text": [
      "Training target statistics: Counter({'C': 1600, 'B': 1600, 'A': 1600})\n",
      "Testing target statistics: Counter({'B': 400, 'C': 291, 'A': 209})\n"
     ]
    }
   ],
   "source": [
    "# use SMOTE to balance the data\n",
    "# deprecated: SMOTE + TomekLinks is not better than SMOTE\n",
    "from imblearn.over_sampling import SMOTE\n",
    "from imblearn.under_sampling import TomekLinks\n",
    "X_res, y_res = SMOTE(random_state=42).fit_resample(X_train, y_train)\n",
    "# X_res, y_res = TomekLinks().fit_resample(X_re, y_re)\n",
    "\n",
    "# check the imbalance of the data again\n",
    "print(f\"Training target statistics: {Counter(y_res)}\")\n",
    "print(f\"Testing target statistics: {Counter(y_test)}\")"
   ]
  },
  {
   "cell_type": "code",
   "execution_count": 158,
   "metadata": {},
   "outputs": [],
   "source": [
    "# tranform the labels to numbers to fit XGBoost\n",
    "from sklearn.preprocessing import LabelEncoder\n",
    "le = LabelEncoder()\n",
    "y_train = le.fit_transform(y_train)\n",
    "y_test = le.fit_transform(y_test)\n",
    "\n",
    "y_res = le.fit_transform(y_res)"
   ]
  },
  {
   "cell_type": "code",
   "execution_count": 159,
   "metadata": {},
   "outputs": [],
   "source": [
    "# build XGBClassifier model\n",
    "xgboostModel = XGBClassifier(n_estimators=100, learning_rate= 0.36)\n",
    "\n",
    "# train data with train_data\n",
    "# xgboostModel.fit(X_train, y_train)\n",
    "xgboostModel.fit(X_res, y_res)\n",
    "\n",
    "# predict with the test_data\n",
    "predicted = xgboostModel.predict(X_test)"
   ]
  },
  {
   "cell_type": "code",
   "execution_count": 160,
   "metadata": {},
   "outputs": [
    {
     "name": "stdout",
     "output_type": "stream",
     "text": [
      "訓練集:  1.0\n",
      "測試集:  0.81\n"
     ]
    }
   ],
   "source": [
    "# print the accuracy\n",
    "# print('訓練集: ',xgboostModel.score(X_train,y_train))\n",
    "print('訓練集: ',xgboostModel.score(X_res,y_res))\n",
    "print('測試集: ',xgboostModel.score(X_test,y_test))"
   ]
  },
  {
   "cell_type": "code",
   "execution_count": 161,
   "metadata": {},
   "outputs": [],
   "source": [
    "# predict the real given data\n",
    "answer = xgboostModel.predict(pred_data)\n",
    "answer = le.inverse_transform(answer)"
   ]
  },
  {
   "cell_type": "code",
   "execution_count": 162,
   "metadata": {},
   "outputs": [],
   "source": [
    "da = {\"Id\": [x for x in range(1, len(answer)+1)], \"Category\": answer}\n",
    "df = pd.DataFrame (da)"
   ]
  },
  {
   "cell_type": "code",
   "execution_count": 163,
   "metadata": {},
   "outputs": [],
   "source": [
    "df.to_csv(\"output.csv\", index=False)"
   ]
  },
  {
   "cell_type": "code",
   "execution_count": null,
   "metadata": {},
   "outputs": [],
   "source": []
  }
 ],
 "metadata": {
  "kernelspec": {
   "display_name": "Python 3.9.13 ('base')",
   "language": "python",
   "name": "python3"
  },
  "language_info": {
   "codemirror_mode": {
    "name": "ipython",
    "version": 3
   },
   "file_extension": ".py",
   "mimetype": "text/x-python",
   "name": "python",
   "nbconvert_exporter": "python",
   "pygments_lexer": "ipython3",
   "version": "3.9.13"
  },
  "orig_nbformat": 4,
  "vscode": {
   "interpreter": {
    "hash": "cfec9ce077408dc39abd08d3e533064f58e310f5c55395ca594f12859fd117f7"
   }
  }
 },
 "nbformat": 4,
 "nbformat_minor": 2
}
