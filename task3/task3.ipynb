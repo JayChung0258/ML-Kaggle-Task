{
 "cells": [
  {
   "cell_type": "code",
   "execution_count": 918,
   "metadata": {},
   "outputs": [],
   "source": [
    "import pandas as pd\n",
    "import sklearn\n",
    "import time\n",
    "import numpy as np\n",
    "import matplotlib.pyplot as plt\n",
    "import seaborn as sns\n",
    "from xgboost import XGBClassifier\n",
    "from numpy import reshape\n",
    "from sklearn import metrics\n",
    "from collections import Counter "
   ]
  },
  {
   "cell_type": "code",
   "execution_count": 919,
   "metadata": {},
   "outputs": [],
   "source": [
    "data = pd.read_csv('train_dec08_task3.csv')"
   ]
  },
  {
   "cell_type": "code",
   "execution_count": 920,
   "metadata": {},
   "outputs": [],
   "source": [
    "# split train and test data\n",
    "from sklearn.model_selection import train_test_split\n",
    "train_data, test_data = train_test_split(data, test_size=0.2, random_state=42)"
   ]
  },
  {
   "cell_type": "code",
   "execution_count": 921,
   "metadata": {},
   "outputs": [],
   "source": [
    "# split features and labels\n",
    "X_train = train_data.iloc[:, :14]\n",
    "y_train = train_data.iloc[:, 14]\n",
    "\n",
    "X_test = test_data.iloc[:, :14]\n",
    "y_test = test_data.iloc[:, 14]\n",
    "\n",
    "pred_data = pd.read_csv('test_dec08_task3_only_features.csv')"
   ]
  },
  {
   "cell_type": "code",
   "execution_count": 922,
   "metadata": {},
   "outputs": [
    {
     "data": {
      "text/plain": [
       "Counter({'A': 790, 'C': 2003, 'B': 1594, 'D': 813})"
      ]
     },
     "execution_count": 922,
     "metadata": {},
     "output_type": "execute_result"
    }
   ],
   "source": [
    "# check the imbalance of the data\n",
    "Counter(y_train)"
   ]
  },
  {
   "cell_type": "code",
   "execution_count": 923,
   "metadata": {},
   "outputs": [
    {
     "name": "stdout",
     "output_type": "stream",
     "text": [
      "Training target statistics: Counter({1: 1999, 3: 1999, 2: 1999, 0: 1999})\n",
      "Testing target statistics: Counter({'C': 497, 'B': 406, 'A': 210, 'D': 187})\n"
     ]
    }
   ],
   "source": [
    "# use SMOTE to balance the data\n",
    "# deprecated: SMOTE + TomekLinks is not better than SMOTE\n",
    "from imblearn.over_sampling import SMOTE\n",
    "from imblearn.under_sampling import TomekLinks\n",
    "X_train, y_train = SMOTE(random_state=42).fit_resample(X_train, y_train)\n",
    "# X_res, y_res = TomekLinks().fit_resample(X_re, y_re)\n",
    "\n",
    "# check the imbalance of the data again\n",
    "print(f\"Training target statistics: {Counter(y_res)}\")\n",
    "print(f\"Testing target statistics: {Counter(y_test)}\")"
   ]
  },
  {
   "cell_type": "code",
   "execution_count": 924,
   "metadata": {},
   "outputs": [],
   "source": [
    "# #correlation matrix\n",
    "# corrmat = X_train.corr()\n",
    "# f, ax = plt.subplots(figsize=(12, 9))\n",
    "# sns.heatmap(corrmat, vmax=.8, square=True)"
   ]
  },
  {
   "cell_type": "code",
   "execution_count": 925,
   "metadata": {},
   "outputs": [
    {
     "name": "stdout",
     "output_type": "stream",
     "text": [
      "features: Index(['feature2', 'feature3', 'feature4', 'feature5', 'feature6', 'feature7',\n",
      "       'feature11'],\n",
      "      dtype='object')\n"
     ]
    }
   ],
   "source": [
    "from sklearn.feature_selection import mutual_info_classif\n",
    "from sklearn.feature_selection import f_classif\n",
    "from sklearn.feature_selection import chi2\n",
    "from sklearn.feature_selection import SelectKBest\n",
    "\n",
    "# 選擇要保留的特徵數\n",
    "# select_k = 8\n",
    "select_k = 5\n",
    "\n",
    "selection = SelectKBest(mutual_info_classif, k=select_k).fit(X_train, y_train)\n",
    "\n",
    "# 顯示保留的欄位\n",
    "features = X_train.columns[selection.get_support()]\n",
    "print(f\"features: {features}\")\n",
    "X_train = selection.fit_transform(X_train, y_train)\n",
    "X_test = selection.transform(X_test)\n"
   ]
  },
  {
   "cell_type": "code",
   "execution_count": 926,
   "metadata": {},
   "outputs": [],
   "source": [
    "# tranform the labels to numbers to fit XGBoost\n",
    "from sklearn.preprocessing import LabelEncoder\n",
    "le = LabelEncoder()\n",
    "y_train = le.fit_transform(y_train)\n",
    "y_test = le.fit_transform(y_test)"
   ]
  },
  {
   "cell_type": "code",
   "execution_count": 927,
   "metadata": {},
   "outputs": [],
   "source": [
    "# build XGBClassifier model\n",
    "xgboostModel = XGBClassifier(n_estimators=100, learning_rate= 0.36)\n",
    "\n",
    "# train data with train_data\n",
    "# xgboostModel.fit(X_train, y_train)\n",
    "xgboostModel.fit(X_train, y_train)\n",
    "\n",
    "# predict with the test_data\n",
    "predicted = xgboostModel.predict(X_test)"
   ]
  },
  {
   "cell_type": "code",
   "execution_count": 928,
   "metadata": {},
   "outputs": [
    {
     "name": "stdout",
     "output_type": "stream",
     "text": [
      "訓練集:  0.9921367948077883\n",
      "測試集:  0.7184615384615385\n"
     ]
    }
   ],
   "source": [
    "# print the accuracy\n",
    "# print('訓練集: ',xgboostModel.score(X_train,y_train))\n",
    "print('訓練集: ',xgboostModel.score(X_train,y_train))\n",
    "print('測試集: ',xgboostModel.score(X_test,y_test))"
   ]
  },
  {
   "cell_type": "code",
   "execution_count": 929,
   "metadata": {},
   "outputs": [],
   "source": [
    "# predict the real given data\n",
    "pred_data = selection.transform(pred_data)\n",
    "answer = xgboostModel.predict(pred_data)\n",
    "answer = le.inverse_transform(answer)"
   ]
  },
  {
   "cell_type": "code",
   "execution_count": 930,
   "metadata": {},
   "outputs": [],
   "source": [
    "da = {\"Id\": [x for x in range(1, len(answer)+1)], \"Category\": answer}\n",
    "df = pd.DataFrame (da)"
   ]
  },
  {
   "cell_type": "code",
   "execution_count": 931,
   "metadata": {},
   "outputs": [],
   "source": [
    "df.to_csv(\"output.csv\", index=False)"
   ]
  }
 ],
 "metadata": {
  "kernelspec": {
   "display_name": "Python 3.9.13 ('base')",
   "language": "python",
   "name": "python3"
  },
  "language_info": {
   "codemirror_mode": {
    "name": "ipython",
    "version": 3
   },
   "file_extension": ".py",
   "mimetype": "text/x-python",
   "name": "python",
   "nbconvert_exporter": "python",
   "pygments_lexer": "ipython3",
   "version": "3.9.13"
  },
  "orig_nbformat": 4,
  "vscode": {
   "interpreter": {
    "hash": "cfec9ce077408dc39abd08d3e533064f58e310f5c55395ca594f12859fd117f7"
   }
  }
 },
 "nbformat": 4,
 "nbformat_minor": 2
}
