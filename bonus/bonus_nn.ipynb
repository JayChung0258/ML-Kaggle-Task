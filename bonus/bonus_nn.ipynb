{
 "cells": [
  {
   "cell_type": "code",
   "execution_count": 830,
   "metadata": {},
   "outputs": [],
   "source": [
    "import numpy as np\n",
    "import pandas as pd\n",
    "import matplotlib.pyplot as plt\n",
    "import seaborn as sns\n",
    "import scipy as sc\n",
    "import random\n",
    "import time\n",
    "import tensorflow.compat.v2 as tf\n",
    "\n",
    "from sklearn.utils import shuffle\n",
    "\n",
    "from collections import Counter \n",
    "from sklearn.preprocessing import LabelEncoder\n",
    "from sklearn.model_selection import train_test_split\n",
    "from keras.utils.np_utils import to_categorical\n",
    "\n",
    "from keras.models import Sequential\n",
    "from keras.layers import Dense"
   ]
  },
  {
   "cell_type": "code",
   "execution_count": 831,
   "metadata": {},
   "outputs": [],
   "source": [
    "data = pd.read_csv('train_jan06_task4bonus.csv')\n",
    "pred = pd.read_csv('test_jan06_task4bonus.csv')\n"
   ]
  },
  {
   "cell_type": "code",
   "execution_count": 832,
   "metadata": {},
   "outputs": [
    {
     "data": {
      "text/plain": [
       "feature0     0\n",
       "feature1     0\n",
       "feature2     0\n",
       "feature3     0\n",
       "feature4     0\n",
       "feature5     0\n",
       "feature6     0\n",
       "feature7     0\n",
       "feature8     0\n",
       "feature9     0\n",
       "feature10    0\n",
       "feature11    0\n",
       "feature12    0\n",
       "feature13    0\n",
       "dtype: int64"
      ]
     },
     "execution_count": 832,
     "metadata": {},
     "output_type": "execute_result"
    }
   ],
   "source": [
    "# handle na data with medium\n",
    "\n",
    "for i in data.columns:\n",
    "    if data[i].isnull().sum() > 0:\n",
    "        data[i].fillna((data[i].median()), inplace=True)\n",
    "\n",
    "data.isnull().sum()\n",
    "\n",
    "for i in pred.columns:\n",
    "    if pred[i].isnull().sum() > 0:\n",
    "        pred[i].fillna((pred[i].median()), inplace=True)\n",
    "\n",
    "pred.isnull().sum()\n"
   ]
  },
  {
   "cell_type": "code",
   "execution_count": 833,
   "metadata": {},
   "outputs": [
    {
     "data": {
      "text/plain": [
       "array([[1., 0., 0., 0.],\n",
       "       [1., 0., 0., 0.],\n",
       "       [1., 0., 0., 0.],\n",
       "       ...,\n",
       "       [0., 0., 0., 1.],\n",
       "       [0., 0., 0., 1.],\n",
       "       [0., 0., 0., 1.]], dtype=float32)"
      ]
     },
     "execution_count": 833,
     "metadata": {},
     "output_type": "execute_result"
    }
   ],
   "source": [
    "l_encode = LabelEncoder()\n",
    "l_encode.fit(data['class'])\n",
    "Y = l_encode.transform(data['class'])\n",
    "Y = to_categorical(Y)\n",
    "Y"
   ]
  },
  {
   "cell_type": "code",
   "execution_count": 834,
   "metadata": {},
   "outputs": [
    {
     "data": {
      "text/plain": [
       "Counter({'A': 1000, 'B': 2000, 'C': 2500, 'D': 1000})"
      ]
     },
     "execution_count": 834,
     "metadata": {},
     "output_type": "execute_result"
    }
   ],
   "source": [
    "Counter(data['class'])"
   ]
  },
  {
   "cell_type": "code",
   "execution_count": 835,
   "metadata": {},
   "outputs": [
    {
     "data": {
      "text/plain": [
       "((5200, 14), (5200, 4), (1300, 14), (1300, 4))"
      ]
     },
     "execution_count": 835,
     "metadata": {},
     "output_type": "execute_result"
    }
   ],
   "source": [
    "# split train and test data\n",
    "X = data.drop(['class'], axis=1)\n",
    "train_x, test_x, train_y, test_y = train_test_split(X, Y, test_size = 0.2, random_state = 0)\n",
    "train_x.shape, train_y.shape, test_x.shape, test_y.shape"
   ]
  },
  {
   "cell_type": "code",
   "execution_count": 836,
   "metadata": {},
   "outputs": [],
   "source": [
    "# # use SMOTE to balance the data\n",
    "# from imblearn.over_sampling import SMOTE\n",
    "# train_x, train_y = SMOTE(random_state=42, sampling_strategy={[1, 0, 0, 0]: 0., 'B': 70, 'C': 90, 'D': 40}).fit_resample(train_x, train_y)\n",
    "\n",
    "# # check the imbalance of the data again\n",
    "# # print(f\"Testing target statistics: {Counter(train_y)}\")\n",
    "# train_x.shape\n",
    "# train_y.shape"
   ]
  },
  {
   "cell_type": "code",
   "execution_count": 837,
   "metadata": {},
   "outputs": [],
   "source": [
    "from sklearn.preprocessing import StandardScaler\n",
    "\n",
    "scaler = StandardScaler().fit(train_x)\n",
    "train_x = scaler.transform(train_x)\n",
    "test_x = scaler.transform(test_x)\n",
    "pred = scaler.transform(pred)"
   ]
  },
  {
   "cell_type": "code",
   "execution_count": 838,
   "metadata": {},
   "outputs": [],
   "source": [
    "in_dim = len(data.columns)-1\n",
    "model = Sequential()\n",
    "\n",
    "model.add(Dense(16, input_dim = in_dim, activation = 'sigmoid'))\n",
    "model.add(tf.keras.layers.BatchNormalization())\n",
    "\n",
    "model.add(Dense(12, activation = 'sigmoid'))\n",
    "model.add(tf.keras.layers.Dropout(0.05))\n",
    "\n",
    "model.add(Dense(8, activation = 'sigmoid'))\n",
    "\n",
    "model.add(Dense(4, activation = 'softmax'))"
   ]
  },
  {
   "cell_type": "code",
   "execution_count": 839,
   "metadata": {},
   "outputs": [
    {
     "name": "stdout",
     "output_type": "stream",
     "text": [
      "0.0006\n",
      "0.0007\n",
      "0.0008\n",
      "0.0009000000000000001\n",
      "0.001\n"
     ]
    }
   ],
   "source": [
    "lr = np.arange(0.0006, 0.001, 0.0001)\n",
    "for i in lr:\n",
    "    print(i)"
   ]
  },
  {
   "cell_type": "code",
   "execution_count": 840,
   "metadata": {},
   "outputs": [
    {
     "name": "stdout",
     "output_type": "stream",
     "text": [
      "lr: 0.0006\n",
      "optimizer: <keras.optimizers.optimizer_experimental.adam.Adam object at 0x0000020B9979D520>\n",
      "41/41 [==============================] - 0s 775us/step - loss: 1.3311 - accuracy: 0.3069\n",
      "best score: 0.3069230914115906\n",
      "lr: 0.0006, optimizer: <keras.optimizers.optimizer_experimental.adam.Adam object at 0x0000020B9979D520>\n",
      "optimizer: <keras.optimizers.optimizer_experimental.adadelta.Adadelta object at 0x0000020BAAC3A580>\n",
      "41/41 [==============================] - 0s 750us/step - loss: 1.3221 - accuracy: 0.3069\n",
      "optimizer: <keras.optimizers.optimizer_experimental.adagrad.Adagrad object at 0x0000020BAAC3A520>\n",
      "41/41 [==============================] - 0s 800us/step - loss: 1.3055 - accuracy: 0.3069\n",
      "optimizer: <keras.optimizers.optimizer_experimental.rmsprop.RMSprop object at 0x0000020B8227DEE0>\n",
      "41/41 [==============================] - 0s 900us/step - loss: 1.2115 - accuracy: 0.5069\n",
      "best score: 0.5069230794906616\n",
      "lr: 0.0006, optimizer: <keras.optimizers.optimizer_experimental.rmsprop.RMSprop object at 0x0000020B8227DEE0>\n",
      "optimizer: <keras.optimizers.optimizer_experimental.sgd.SGD object at 0x0000020B963156D0>\n",
      "41/41 [==============================] - 0s 725us/step - loss: 1.2083 - accuracy: 0.5038\n",
      "lr: 0.0007\n",
      "optimizer: <keras.optimizers.optimizer_experimental.adam.Adam object at 0x0000020BAAFA2130>\n",
      "41/41 [==============================] - 0s 775us/step - loss: 1.1330 - accuracy: 0.5285\n",
      "best score: 0.5284615159034729\n",
      "lr: 0.0007, optimizer: <keras.optimizers.optimizer_experimental.adam.Adam object at 0x0000020BAAFA2130>\n",
      "optimizer: <keras.optimizers.optimizer_experimental.adadelta.Adadelta object at 0x0000020BAAFA7CA0>\n",
      "41/41 [==============================] - 0s 750us/step - loss: 1.1333 - accuracy: 0.5277\n",
      "optimizer: <keras.optimizers.optimizer_experimental.adagrad.Adagrad object at 0x0000020BAAFACE50>\n",
      "41/41 [==============================] - 0s 875us/step - loss: 1.1300 - accuracy: 0.5277\n",
      "optimizer: <keras.optimizers.optimizer_experimental.rmsprop.RMSprop object at 0x0000020BAAFB21F0>\n",
      "41/41 [==============================] - 0s 750us/step - loss: 1.0606 - accuracy: 0.5715\n",
      "best score: 0.5715384483337402\n",
      "lr: 0.0007, optimizer: <keras.optimizers.optimizer_experimental.rmsprop.RMSprop object at 0x0000020BAAFB21F0>\n",
      "optimizer: <keras.optimizers.optimizer_experimental.sgd.SGD object at 0x0000020BAAFB2A90>\n",
      "41/41 [==============================] - 0s 825us/step - loss: 1.0595 - accuracy: 0.5723\n",
      "best score: 0.5723077058792114\n",
      "lr: 0.0007, optimizer: <keras.optimizers.optimizer_experimental.sgd.SGD object at 0x0000020BAAFB2A90>\n",
      "lr: 0.0008\n",
      "optimizer: <keras.optimizers.optimizer_experimental.adam.Adam object at 0x0000020B9979D520>\n",
      "41/41 [==============================] - 0s 800us/step - loss: 0.9979 - accuracy: 0.6015\n",
      "best score: 0.6015384793281555\n",
      "lr: 0.0008, optimizer: <keras.optimizers.optimizer_experimental.adam.Adam object at 0x0000020B9979D520>\n",
      "optimizer: <keras.optimizers.optimizer_experimental.adadelta.Adadelta object at 0x0000020C0DC99100>\n",
      "41/41 [==============================] - 0s 825us/step - loss: 0.9979 - accuracy: 0.6038\n",
      "best score: 0.6038461327552795\n",
      "lr: 0.0008, optimizer: <keras.optimizers.optimizer_experimental.adadelta.Adadelta object at 0x0000020C0DC99100>\n",
      "optimizer: <keras.optimizers.optimizer_experimental.adagrad.Adagrad object at 0x0000020C0DCF5BE0>\n",
      "41/41 [==============================] - 0s 775us/step - loss: 0.9948 - accuracy: 0.6038\n",
      "optimizer: <keras.optimizers.optimizer_experimental.rmsprop.RMSprop object at 0x0000020C0DCFE6D0>\n",
      "41/41 [==============================] - 0s 700us/step - loss: 0.9447 - accuracy: 0.6338\n",
      "best score: 0.6338461637496948\n",
      "lr: 0.0008, optimizer: <keras.optimizers.optimizer_experimental.rmsprop.RMSprop object at 0x0000020C0DCFE6D0>\n",
      "optimizer: <keras.optimizers.optimizer_experimental.sgd.SGD object at 0x0000020C0DCFE8E0>\n",
      "41/41 [==============================] - 0s 825us/step - loss: 0.9435 - accuracy: 0.6346\n",
      "best score: 0.6346153616905212\n",
      "lr: 0.0008, optimizer: <keras.optimizers.optimizer_experimental.sgd.SGD object at 0x0000020C0DCFE8E0>\n",
      "lr: 0.0009000000000000001\n",
      "optimizer: <keras.optimizers.optimizer_experimental.adam.Adam object at 0x0000020BAAFA2130>\n",
      "41/41 [==============================] - 0s 775us/step - loss: 0.9010 - accuracy: 0.6469\n",
      "best score: 0.6469230651855469\n",
      "lr: 0.0009000000000000001, optimizer: <keras.optimizers.optimizer_experimental.adam.Adam object at 0x0000020BAAFA2130>\n",
      "optimizer: <keras.optimizers.optimizer_experimental.adadelta.Adadelta object at 0x0000020C1263CF10>\n",
      "41/41 [==============================] - 0s 750us/step - loss: 0.9010 - accuracy: 0.6469\n",
      "optimizer: <keras.optimizers.optimizer_experimental.adagrad.Adagrad object at 0x0000020C1277F9D0>\n",
      "41/41 [==============================] - 0s 800us/step - loss: 0.8985 - accuracy: 0.6469\n",
      "optimizer: <keras.optimizers.optimizer_experimental.rmsprop.RMSprop object at 0x0000020C12778E50>\n",
      "41/41 [==============================] - 0s 850us/step - loss: 0.8641 - accuracy: 0.6685\n",
      "best score: 0.6684615612030029\n",
      "lr: 0.0009000000000000001, optimizer: <keras.optimizers.optimizer_experimental.rmsprop.RMSprop object at 0x0000020C12778E50>\n",
      "optimizer: <keras.optimizers.optimizer_experimental.sgd.SGD object at 0x0000020C127789D0>\n",
      "41/41 [==============================] - 0s 849us/step - loss: 0.8634 - accuracy: 0.6692\n",
      "best score: 0.6692307591438293\n",
      "lr: 0.0009000000000000001, optimizer: <keras.optimizers.optimizer_experimental.sgd.SGD object at 0x0000020C127789D0>\n",
      "lr: 0.001\n",
      "optimizer: <keras.optimizers.optimizer_experimental.adam.Adam object at 0x0000020B9979D520>\n",
      "41/41 [==============================] - 0s 875us/step - loss: 0.8393 - accuracy: 0.6754\n",
      "best score: 0.6753846406936646\n",
      "lr: 0.001, optimizer: <keras.optimizers.optimizer_experimental.adam.Adam object at 0x0000020B9979D520>\n",
      "optimizer: <keras.optimizers.optimizer_experimental.adadelta.Adadelta object at 0x0000020C16D22F10>\n",
      "41/41 [==============================] - 0s 725us/step - loss: 0.8395 - accuracy: 0.6738\n",
      "optimizer: <keras.optimizers.optimizer_experimental.adagrad.Adagrad object at 0x0000020BF4173310>\n",
      "41/41 [==============================] - 0s 775us/step - loss: 0.8381 - accuracy: 0.6754\n",
      "optimizer: <keras.optimizers.optimizer_experimental.rmsprop.RMSprop object at 0x0000020BC2FE8B80>\n",
      "41/41 [==============================] - 0s 750us/step - loss: 0.8229 - accuracy: 0.6777\n",
      "best score: 0.6776922941207886\n",
      "lr: 0.001, optimizer: <keras.optimizers.optimizer_experimental.rmsprop.RMSprop object at 0x0000020BC2FE8B80>\n",
      "optimizer: <keras.optimizers.optimizer_experimental.sgd.SGD object at 0x0000020BC2FE86D0>\n",
      "41/41 [==============================] - 0s 975us/step - loss: 0.8227 - accuracy: 0.6769\n"
     ]
    }
   ],
   "source": [
    "callback = tf.keras.callbacks.EarlyStopping(monitor='val_loss', patience=25)\n",
    "\n",
    "best_model = None\n",
    "best_score = 0\n",
    "\n",
    "lr = np.arange(0.0006, 0.001, 0.0001)\n",
    "for i in lr:\n",
    "    print(f\"lr: {i}\")\n",
    "    optimizers = [tf.keras.optimizers.Adam(learning_rate=i), tf.keras.optimizers.Adadelta(learning_rate=i), tf.keras.optimizers.Adagrad(learning_rate=i), tf.keras.optimizers.RMSprop(learning_rate=i), tf.keras.optimizers.SGD(learning_rate=i)]\n",
    "\n",
    "    for j in optimizers:\n",
    "        print(f\"optimizer: {j}\")\n",
    "        model.compile(loss = 'categorical_crossentropy', optimizer=j, metrics = ['accuracy'])\n",
    "        hist = model.fit(train_x, train_y, epochs = 400, batch_size = 32, validation_split=0.2, verbose=0, callbacks=[callback])\n",
    "        scores = model.evaluate(test_x, test_y)\n",
    "\n",
    "        # save the best model depending on the accuracy\n",
    "        if scores[1] > best_score:\n",
    "            print(f\"best score: {scores[1]}\")\n",
    "            print(f\"lr: {i}, optimizer: {j}\")\n",
    "            best_model = model\n",
    "            best_score = scores[1]\n",
    "\n",
    "\n",
    "        \n",
    "           \n",
    "\n",
    "\n",
    "\n",
    "\n",
    "\n",
    "# callback = tf.keras.callbacks.EarlyStopping(monitor='val_loss', patience=25)\n",
    "# model.compile(loss = 'categorical_crossentropy', optimizer=tf.keras.optimizers.Adam(learning_rate=0.001), metrics = ['accuracy'])\n",
    "# hist = model.fit(train_x, train_y, epochs = 1000, batch_size = 32, validation_split=0.2, callbacks=[callback], verbose=0)\n",
    "# # hist = model.fit(train_x, train_y, epochs = 400, batch_size = 32, validation_split=0.2)\n",
    "# scores = model.evaluate(test_x, test_y)\n",
    "\n",
    "# for i, m in enumerate(model.metrics_names):\n",
    "#     print(\"\\n%s: %.3f\"% (m, scores[i]))"
   ]
  },
  {
   "cell_type": "code",
   "execution_count": 829,
   "metadata": {},
   "outputs": [
    {
     "name": "stdout",
     "output_type": "stream",
     "text": [
      "41/41 [==============================] - 0s 875us/step - loss: 0.7025 - accuracy: 0.7231\n",
      "\n",
      "loss: 0.702\n",
      "\n",
      "accuracy: 0.723\n"
     ]
    }
   ],
   "source": [
    "# check best model\n",
    "scores = best_model.evaluate(test_x, test_y)\n",
    "for i, m in enumerate(best_model.metrics_names):\n",
    "    print(\"\\n%s: %.3f\"% (m, scores[i]))"
   ]
  },
  {
   "cell_type": "code",
   "execution_count": 793,
   "metadata": {},
   "outputs": [
    {
     "data": {
      "image/png": "[encoded data removed]",
      "text/plain": [
       "<Figure size 640x480 with 1 Axes>"
      ]
     },
     "metadata": {},
     "output_type": "display_data"
    }
   ],
   "source": [
    "# plot the model accuracy\n",
    "plt.plot(hist.history['accuracy'])\n",
    "plt.plot(hist.history['val_accuracy'])\n",
    "\n",
    "plt.show()"
   ]
  },
  {
   "cell_type": "code",
   "execution_count": 794,
   "metadata": {},
   "outputs": [
    {
     "data": {
      "text/plain": [
       "[<matplotlib.lines.Line2D at 0x20b89278cd0>]"
      ]
     },
     "execution_count": 794,
     "metadata": {},
     "output_type": "execute_result"
    },
    {
     "data": {
      "image/png": "[encoded data removed]",
      "text/plain": [
       "<Figure size 640x480 with 1 Axes>"
      ]
     },
     "metadata": {},
     "output_type": "display_data"
    }
   ],
   "source": [
    "plt.plot(hist.history['loss'])\n",
    "plt.plot(hist.history['val_loss'])"
   ]
  },
  {
   "cell_type": "code",
   "execution_count": 795,
   "metadata": {},
   "outputs": [
    {
     "name": "stdout",
     "output_type": "stream",
     "text": [
      "Generate a prediction\n",
      "50/50 [==============================] - 0s 1ms/step\n",
      "prediction shape: (1600, 4)\n"
     ]
    }
   ],
   "source": [
    "print(\"Generate a prediction\")\n",
    "prediction = model.predict(pred)\n",
    "print(\"prediction shape:\", prediction.shape)"
   ]
  },
  {
   "cell_type": "code",
   "execution_count": 796,
   "metadata": {},
   "outputs": [
    {
     "data": {
      "text/plain": [
       "array([[6.2853057e-04, 6.3655391e-02, 9.2977887e-01, 5.9371698e-03],\n",
       "       [8.6421510e-03, 9.2092001e-01, 6.7280799e-02, 3.1570580e-03],\n",
       "       [4.3577859e-03, 5.7302946e-01, 4.1686097e-01, 5.7517155e-03],\n",
       "       ...,\n",
       "       [5.1849231e-02, 5.4586557e-04, 6.3355193e-03, 9.4126940e-01],\n",
       "       [3.8721226e-02, 2.2689172e-03, 2.1558042e-01, 7.4342942e-01],\n",
       "       [9.4945193e-04, 3.6790166e-02, 9.5910692e-01, 3.1535192e-03]],\n",
       "      dtype=float32)"
      ]
     },
     "execution_count": 796,
     "metadata": {},
     "output_type": "execute_result"
    }
   ],
   "source": [
    "prediction"
   ]
  },
  {
   "cell_type": "code",
   "execution_count": 797,
   "metadata": {},
   "outputs": [],
   "source": [
    "pred_ = l_encode.inverse_transform(prediction.argmax(axis=1))"
   ]
  },
  {
   "cell_type": "code",
   "execution_count": 798,
   "metadata": {},
   "outputs": [
    {
     "data": {
      "text/plain": [
       "array(['C', 'B', 'B', ..., 'D', 'D', 'C'], dtype=object)"
      ]
     },
     "execution_count": 798,
     "metadata": {},
     "output_type": "execute_result"
    }
   ],
   "source": [
    "pred_"
   ]
  },
  {
   "cell_type": "code",
   "execution_count": 799,
   "metadata": {},
   "outputs": [],
   "source": [
    "da = {\"Id\": [x for x in range(1, len(pred_)+1)], \"Category\": pred_}\n",
    "df = pd.DataFrame (da)"
   ]
  },
  {
   "cell_type": "code",
   "execution_count": 782,
   "metadata": {},
   "outputs": [],
   "source": [
    "df.to_csv(\"output.csv\", index=False)"
   ]
  }
 ],
 "metadata": {
  "kernelspec": {
   "display_name": "base",
   "language": "python",
   "name": "python3"
  },
  "language_info": {
   "codemirror_mode": {
    "name": "ipython",
    "version": 3
   },
   "file_extension": ".py",
   "mimetype": "text/x-python",
   "name": "python",
   "nbconvert_exporter": "python",
   "pygments_lexer": "ipython3",
   "version": "3.9.13"
  },
  "orig_nbformat": 4,
  "vscode": {
   "interpreter": {
    "hash": "cfec9ce077408dc39abd08d3e533064f58e310f5c55395ca594f12859fd117f7"
   }
  }
 },
 "nbformat": 4,
 "nbformat_minor": 2
}
