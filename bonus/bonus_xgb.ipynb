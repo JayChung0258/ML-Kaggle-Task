{
 "cells": [
  {
   "cell_type": "code",
   "execution_count": null,
   "metadata": {},
   "outputs": [],
   "source": [
    "import pandas as pd\n",
    "import sklearn\n",
    "import time\n",
    "import numpy as np\n",
    "import matplotlib.pyplot as plt\n",
    "import seaborn as sns\n",
    "from xgboost import XGBClassifier\n",
    "from numpy import reshape\n",
    "from sklearn import metrics\n",
    "from collections import Counter \n",
    "from sklearn.impute import KNNImputer"
   ]
  },
  {
   "cell_type": "code",
   "execution_count": null,
   "metadata": {},
   "outputs": [],
   "source": [
    "data = pd.read_csv('train_jan06_task4bonus.csv')\n",
    "\n",
    "data = data.dropna(axis=0, how='any')\n",
    "data = pd.DataFrame(data)\n",
    "data.isnull().values.any()"
   ]
  }
 ],
 "metadata": {
  "kernelspec": {
   "display_name": "base",
   "language": "python",
   "name": "python3"
  },
  "language_info": {
   "name": "python",
   "version": "3.9.13 (main, Aug 25 2022, 23:51:50) [MSC v.1916 64 bit (AMD64)]"
  },
  "orig_nbformat": 4,
  "vscode": {
   "interpreter": {
    "hash": "cfec9ce077408dc39abd08d3e533064f58e310f5c55395ca594f12859fd117f7"
   }
  }
 },
 "nbformat": 4,
 "nbformat_minor": 2
}
