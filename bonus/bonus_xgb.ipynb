{
 "cells": [
  {
   "cell_type": "code",
   "execution_count": 25,
   "metadata": {},
   "outputs": [],
   "source": [
    "import pandas as pd\n",
    "import sklearn\n",
    "import time\n",
    "import numpy as np\n",
    "import matplotlib.pyplot as plt\n",
    "import seaborn as sns\n",
    "from xgboost import XGBClassifier\n",
    "from numpy import reshape\n",
    "from sklearn import metrics\n",
    "from collections import Counter \n",
    "from sklearn.impute import KNNImputer"
   ]
  },
  {
   "cell_type": "code",
   "execution_count": 26,
   "metadata": {},
   "outputs": [
    {
     "data": {
      "text/plain": [
       "False"
      ]
     },
     "execution_count": 26,
     "metadata": {},
     "output_type": "execute_result"
    }
   ],
   "source": [
    "data = pd.read_csv('train_jan06_task4bonus.csv')\n",
    "\n",
    "data = data.dropna(axis=0, how='any')\n",
    "data = pd.DataFrame(data)\n",
    "data.isnull().values.any()"
   ]
  },
  {
   "cell_type": "code",
   "execution_count": 27,
   "metadata": {},
   "outputs": [],
   "source": [
    "# split train and test data\n",
    "from sklearn.model_selection import train_test_split\n",
    "train_data, test_data = train_test_split(data, test_size=0.2, random_state=35)"
   ]
  },
  {
   "cell_type": "code",
   "execution_count": 28,
   "metadata": {},
   "outputs": [],
   "source": [
    "# split features and labels\n",
    "X_train = train_data.iloc[:, :14]\n",
    "y_train = train_data.iloc[:, 14]\n",
    "\n",
    "X_test = test_data.iloc[:, :14]\n",
    "y_test = test_data.iloc[:, 14]"
   ]
  },
  {
   "cell_type": "code",
   "execution_count": 29,
   "metadata": {},
   "outputs": [],
   "source": [
    "# tranform the labels to numbers to fit XGBoost\n",
    "from sklearn.preprocessing import LabelEncoder\n",
    "le = LabelEncoder()\n",
    "\n",
    "y_train = le.fit_transform(y_train)\n",
    "y_test = le.fit_transform(y_test)"
   ]
  },
  {
   "cell_type": "code",
   "execution_count": 30,
   "metadata": {},
   "outputs": [
    {
     "data": {
      "text/plain": [
       "numpy.ndarray"
      ]
     },
     "execution_count": 30,
     "metadata": {},
     "output_type": "execute_result"
    }
   ],
   "source": [
    "# check the imbalance of the data\n",
    "type(y_train)"
   ]
  },
  {
   "cell_type": "code",
   "execution_count": 31,
   "metadata": {},
   "outputs": [],
   "source": [
    "# # use SMOTE to balance the data\n",
    "# # deprecated: SMOTE + TomekLinks is not better than SMOTE\n",
    "# from imblearn.over_sampling import SMOTE\n",
    "# X_train, y_train = SMOTE(random_state=42).fit_resample(X_train, y_train)\n",
    "\n",
    "# # check the imbalance of the data again\n",
    "# print(f\"Training target statistics: {Counter(y_train)}\")\n",
    "# print(f\"Testing target statistics: {Counter(y_test)}\")\n",
    "# type(y_train)"
   ]
  },
  {
   "cell_type": "code",
   "execution_count": 32,
   "metadata": {},
   "outputs": [
    {
     "data": {
      "text/html": [
       "<div>\n",
       "<style scoped>\n",
       "    .dataframe tbody tr th:only-of-type {\n",
       "        vertical-align: middle;\n",
       "    }\n",
       "\n",
       "    .dataframe tbody tr th {\n",
       "        vertical-align: top;\n",
       "    }\n",
       "\n",
       "    .dataframe thead th {\n",
       "        text-align: right;\n",
       "    }\n",
       "</style>\n",
       "<table border=\"1\" class=\"dataframe\">\n",
       "  <thead>\n",
       "    <tr style=\"text-align: right;\">\n",
       "      <th></th>\n",
       "      <th>feature0</th>\n",
       "      <th>feature1</th>\n",
       "      <th>feature2</th>\n",
       "      <th>feature3</th>\n",
       "      <th>feature4</th>\n",
       "      <th>feature5</th>\n",
       "      <th>feature6</th>\n",
       "      <th>feature7</th>\n",
       "      <th>feature8</th>\n",
       "      <th>feature9</th>\n",
       "      <th>feature10</th>\n",
       "      <th>feature11</th>\n",
       "      <th>feature12</th>\n",
       "      <th>feature13</th>\n",
       "    </tr>\n",
       "  </thead>\n",
       "  <tbody>\n",
       "    <tr>\n",
       "      <th>5044</th>\n",
       "      <td>5.263536</td>\n",
       "      <td>2.888580</td>\n",
       "      <td>10.172511</td>\n",
       "      <td>5.964243</td>\n",
       "      <td>10.490974</td>\n",
       "      <td>11.204078</td>\n",
       "      <td>4.649965</td>\n",
       "      <td>4.530837</td>\n",
       "      <td>1.552903</td>\n",
       "      <td>4.464508</td>\n",
       "      <td>1.888097</td>\n",
       "      <td>4.333570</td>\n",
       "      <td>6.523952</td>\n",
       "      <td>5.604364</td>\n",
       "    </tr>\n",
       "    <tr>\n",
       "      <th>3524</th>\n",
       "      <td>3.847185</td>\n",
       "      <td>2.515811</td>\n",
       "      <td>8.486694</td>\n",
       "      <td>2.950003</td>\n",
       "      <td>9.772534</td>\n",
       "      <td>10.444022</td>\n",
       "      <td>10.186250</td>\n",
       "      <td>10.718132</td>\n",
       "      <td>9.171970</td>\n",
       "      <td>8.096505</td>\n",
       "      <td>1.314820</td>\n",
       "      <td>0.564652</td>\n",
       "      <td>6.305562</td>\n",
       "      <td>5.161377</td>\n",
       "    </tr>\n",
       "    <tr>\n",
       "      <th>2014</th>\n",
       "      <td>9.337414</td>\n",
       "      <td>3.632462</td>\n",
       "      <td>6.879610</td>\n",
       "      <td>7.067639</td>\n",
       "      <td>7.388772</td>\n",
       "      <td>9.269483</td>\n",
       "      <td>6.901187</td>\n",
       "      <td>9.384523</td>\n",
       "      <td>2.567512</td>\n",
       "      <td>2.395287</td>\n",
       "      <td>2.303567</td>\n",
       "      <td>5.345253</td>\n",
       "      <td>6.136224</td>\n",
       "      <td>6.561042</td>\n",
       "    </tr>\n",
       "    <tr>\n",
       "      <th>5364</th>\n",
       "      <td>10.610509</td>\n",
       "      <td>2.859282</td>\n",
       "      <td>8.300140</td>\n",
       "      <td>5.833840</td>\n",
       "      <td>9.401405</td>\n",
       "      <td>5.216764</td>\n",
       "      <td>17.606022</td>\n",
       "      <td>5.760159</td>\n",
       "      <td>7.173404</td>\n",
       "      <td>10.167979</td>\n",
       "      <td>0.234073</td>\n",
       "      <td>2.403171</td>\n",
       "      <td>3.770810</td>\n",
       "      <td>4.313245</td>\n",
       "    </tr>\n",
       "    <tr>\n",
       "      <th>5660</th>\n",
       "      <td>9.321674</td>\n",
       "      <td>5.444533</td>\n",
       "      <td>5.509881</td>\n",
       "      <td>5.923345</td>\n",
       "      <td>14.979760</td>\n",
       "      <td>10.022494</td>\n",
       "      <td>15.851459</td>\n",
       "      <td>2.436668</td>\n",
       "      <td>8.114382</td>\n",
       "      <td>11.528740</td>\n",
       "      <td>5.541106</td>\n",
       "      <td>5.905004</td>\n",
       "      <td>6.822657</td>\n",
       "      <td>6.469583</td>\n",
       "    </tr>\n",
       "    <tr>\n",
       "      <th>...</th>\n",
       "      <td>...</td>\n",
       "      <td>...</td>\n",
       "      <td>...</td>\n",
       "      <td>...</td>\n",
       "      <td>...</td>\n",
       "      <td>...</td>\n",
       "      <td>...</td>\n",
       "      <td>...</td>\n",
       "      <td>...</td>\n",
       "      <td>...</td>\n",
       "      <td>...</td>\n",
       "      <td>...</td>\n",
       "      <td>...</td>\n",
       "      <td>...</td>\n",
       "    </tr>\n",
       "    <tr>\n",
       "      <th>455</th>\n",
       "      <td>8.544061</td>\n",
       "      <td>7.077767</td>\n",
       "      <td>4.207810</td>\n",
       "      <td>10.181200</td>\n",
       "      <td>12.435207</td>\n",
       "      <td>12.912851</td>\n",
       "      <td>7.333140</td>\n",
       "      <td>7.878006</td>\n",
       "      <td>5.052528</td>\n",
       "      <td>11.548862</td>\n",
       "      <td>5.862975</td>\n",
       "      <td>2.331614</td>\n",
       "      <td>5.529950</td>\n",
       "      <td>4.898901</td>\n",
       "    </tr>\n",
       "    <tr>\n",
       "      <th>4000</th>\n",
       "      <td>6.976476</td>\n",
       "      <td>8.400066</td>\n",
       "      <td>6.812281</td>\n",
       "      <td>6.053825</td>\n",
       "      <td>10.821075</td>\n",
       "      <td>7.187484</td>\n",
       "      <td>18.446845</td>\n",
       "      <td>7.878172</td>\n",
       "      <td>7.441846</td>\n",
       "      <td>0.626618</td>\n",
       "      <td>2.714128</td>\n",
       "      <td>0.599499</td>\n",
       "      <td>6.454127</td>\n",
       "      <td>4.026533</td>\n",
       "    </tr>\n",
       "    <tr>\n",
       "      <th>2380</th>\n",
       "      <td>12.074174</td>\n",
       "      <td>8.104266</td>\n",
       "      <td>4.460196</td>\n",
       "      <td>5.402023</td>\n",
       "      <td>10.020930</td>\n",
       "      <td>12.022437</td>\n",
       "      <td>14.326507</td>\n",
       "      <td>8.663517</td>\n",
       "      <td>10.162202</td>\n",
       "      <td>4.497671</td>\n",
       "      <td>4.377037</td>\n",
       "      <td>4.178784</td>\n",
       "      <td>6.084231</td>\n",
       "      <td>4.504453</td>\n",
       "    </tr>\n",
       "    <tr>\n",
       "      <th>3147</th>\n",
       "      <td>2.638430</td>\n",
       "      <td>7.150443</td>\n",
       "      <td>10.441031</td>\n",
       "      <td>5.389840</td>\n",
       "      <td>13.040506</td>\n",
       "      <td>10.942847</td>\n",
       "      <td>15.624016</td>\n",
       "      <td>4.966372</td>\n",
       "      <td>8.536939</td>\n",
       "      <td>1.195192</td>\n",
       "      <td>3.614993</td>\n",
       "      <td>5.357749</td>\n",
       "      <td>5.960302</td>\n",
       "      <td>5.592561</td>\n",
       "    </tr>\n",
       "    <tr>\n",
       "      <th>4190</th>\n",
       "      <td>5.974449</td>\n",
       "      <td>1.730764</td>\n",
       "      <td>7.051561</td>\n",
       "      <td>5.021169</td>\n",
       "      <td>11.457609</td>\n",
       "      <td>7.177790</td>\n",
       "      <td>10.713749</td>\n",
       "      <td>4.183644</td>\n",
       "      <td>8.984724</td>\n",
       "      <td>9.315427</td>\n",
       "      <td>5.584783</td>\n",
       "      <td>5.462733</td>\n",
       "      <td>3.676116</td>\n",
       "      <td>5.283031</td>\n",
       "    </tr>\n",
       "  </tbody>\n",
       "</table>\n",
       "<p>2156 rows × 14 columns</p>\n",
       "</div>"
      ],
      "text/plain": [
       "       feature0  feature1   feature2   feature3   feature4   feature5  \\\n",
       "5044   5.263536  2.888580  10.172511   5.964243  10.490974  11.204078   \n",
       "3524   3.847185  2.515811   8.486694   2.950003   9.772534  10.444022   \n",
       "2014   9.337414  3.632462   6.879610   7.067639   7.388772   9.269483   \n",
       "5364  10.610509  2.859282   8.300140   5.833840   9.401405   5.216764   \n",
       "5660   9.321674  5.444533   5.509881   5.923345  14.979760  10.022494   \n",
       "...         ...       ...        ...        ...        ...        ...   \n",
       "455    8.544061  7.077767   4.207810  10.181200  12.435207  12.912851   \n",
       "4000   6.976476  8.400066   6.812281   6.053825  10.821075   7.187484   \n",
       "2380  12.074174  8.104266   4.460196   5.402023  10.020930  12.022437   \n",
       "3147   2.638430  7.150443  10.441031   5.389840  13.040506  10.942847   \n",
       "4190   5.974449  1.730764   7.051561   5.021169  11.457609   7.177790   \n",
       "\n",
       "       feature6   feature7   feature8   feature9  feature10  feature11  \\\n",
       "5044   4.649965   4.530837   1.552903   4.464508   1.888097   4.333570   \n",
       "3524  10.186250  10.718132   9.171970   8.096505   1.314820   0.564652   \n",
       "2014   6.901187   9.384523   2.567512   2.395287   2.303567   5.345253   \n",
       "5364  17.606022   5.760159   7.173404  10.167979   0.234073   2.403171   \n",
       "5660  15.851459   2.436668   8.114382  11.528740   5.541106   5.905004   \n",
       "...         ...        ...        ...        ...        ...        ...   \n",
       "455    7.333140   7.878006   5.052528  11.548862   5.862975   2.331614   \n",
       "4000  18.446845   7.878172   7.441846   0.626618   2.714128   0.599499   \n",
       "2380  14.326507   8.663517  10.162202   4.497671   4.377037   4.178784   \n",
       "3147  15.624016   4.966372   8.536939   1.195192   3.614993   5.357749   \n",
       "4190  10.713749   4.183644   8.984724   9.315427   5.584783   5.462733   \n",
       "\n",
       "      feature12  feature13  \n",
       "5044   6.523952   5.604364  \n",
       "3524   6.305562   5.161377  \n",
       "2014   6.136224   6.561042  \n",
       "5364   3.770810   4.313245  \n",
       "5660   6.822657   6.469583  \n",
       "...         ...        ...  \n",
       "455    5.529950   4.898901  \n",
       "4000   6.454127   4.026533  \n",
       "2380   6.084231   4.504453  \n",
       "3147   5.960302   5.592561  \n",
       "4190   3.676116   5.283031  \n",
       "\n",
       "[2156 rows x 14 columns]"
      ]
     },
     "execution_count": 32,
     "metadata": {},
     "output_type": "execute_result"
    }
   ],
   "source": [
    "X_train"
   ]
  },
  {
   "cell_type": "code",
   "execution_count": 33,
   "metadata": {},
   "outputs": [
    {
     "data": {
      "text/plain": [
       "array([2, 2, 1, ..., 1, 2, 2])"
      ]
     },
     "execution_count": 33,
     "metadata": {},
     "output_type": "execute_result"
    }
   ],
   "source": [
    "y_train"
   ]
  },
  {
   "cell_type": "code",
   "execution_count": 34,
   "metadata": {},
   "outputs": [
    {
     "name": "stdout",
     "output_type": "stream",
     "text": [
      "features: Index(['feature2', 'feature3', 'feature4', 'feature5', 'feature6'], dtype='object')\n",
      "scores: [0.0104691  0.         0.20580758 0.20021739 0.18678438 0.1673992\n",
      " 0.11041241 0.         0.         0.         0.         0.01203053\n",
      " 0.         0.        ]\n"
     ]
    }
   ],
   "source": [
    "from sklearn.feature_selection import mutual_info_classif\n",
    "from sklearn.feature_selection import SelectKBest\n",
    "\n",
    "# choose the best k features numbers\n",
    "select_k = 5\n",
    "\n",
    "selection = SelectKBest(mutual_info_classif, k=select_k).fit(X_train, y_train)\n",
    "\n",
    "# show the selected features\n",
    "''' Higher score means more important with the target \n",
    "    Lower score means less important with the target\n",
    "'''\n",
    "\n",
    "features = X_train.columns[selection.get_support()]\n",
    "print(f\"features: {features}\")\n",
    "print(f\"scores: {selection.scores_}\")\n",
    "X_train = selection.fit_transform(X_train, y_train)\n",
    "X_test = selection.transform(X_test)"
   ]
  },
  {
   "cell_type": "code",
   "execution_count": 35,
   "metadata": {},
   "outputs": [
    {
     "data": {
      "text/html": [
       "<style>#sk-container-id-3 {color: black;background-color: white;}#sk-container-id-3 pre{padding: 0;}#sk-container-id-3 div.sk-toggleable {background-color: white;}#sk-container-id-3 label.sk-toggleable__label {cursor: pointer;display: block;width: 100%;margin-bottom: 0;padding: 0.3em;box-sizing: border-box;text-align: center;}#sk-container-id-3 label.sk-toggleable__label-arrow:before {content: \"▸\";float: left;margin-right: 0.25em;color: #696969;}#sk-container-id-3 label.sk-toggleable__label-arrow:hover:before {color: black;}#sk-container-id-3 div.sk-estimator:hover label.sk-toggleable__label-arrow:before {color: black;}#sk-container-id-3 div.sk-toggleable__content {max-height: 0;max-width: 0;overflow: hidden;text-align: left;background-color: #f0f8ff;}#sk-container-id-3 div.sk-toggleable__content pre {margin: 0.2em;color: black;border-radius: 0.25em;background-color: #f0f8ff;}#sk-container-id-3 input.sk-toggleable__control:checked~div.sk-toggleable__content {max-height: 200px;max-width: 100%;overflow: auto;}#sk-container-id-3 input.sk-toggleable__control:checked~label.sk-toggleable__label-arrow:before {content: \"▾\";}#sk-container-id-3 div.sk-estimator input.sk-toggleable__control:checked~label.sk-toggleable__label {background-color: #d4ebff;}#sk-container-id-3 div.sk-label input.sk-toggleable__control:checked~label.sk-toggleable__label {background-color: #d4ebff;}#sk-container-id-3 input.sk-hidden--visually {border: 0;clip: rect(1px 1px 1px 1px);clip: rect(1px, 1px, 1px, 1px);height: 1px;margin: -1px;overflow: hidden;padding: 0;position: absolute;width: 1px;}#sk-container-id-3 div.sk-estimator {font-family: monospace;background-color: #f0f8ff;border: 1px dotted black;border-radius: 0.25em;box-sizing: border-box;margin-bottom: 0.5em;}#sk-container-id-3 div.sk-estimator:hover {background-color: #d4ebff;}#sk-container-id-3 div.sk-parallel-item::after {content: \"\";width: 100%;border-bottom: 1px solid gray;flex-grow: 1;}#sk-container-id-3 div.sk-label:hover label.sk-toggleable__label {background-color: #d4ebff;}#sk-container-id-3 div.sk-serial::before {content: \"\";position: absolute;border-left: 1px solid gray;box-sizing: border-box;top: 0;bottom: 0;left: 50%;z-index: 0;}#sk-container-id-3 div.sk-serial {display: flex;flex-direction: column;align-items: center;background-color: white;padding-right: 0.2em;padding-left: 0.2em;position: relative;}#sk-container-id-3 div.sk-item {position: relative;z-index: 1;}#sk-container-id-3 div.sk-parallel {display: flex;align-items: stretch;justify-content: center;background-color: white;position: relative;}#sk-container-id-3 div.sk-item::before, #sk-container-id-3 div.sk-parallel-item::before {content: \"\";position: absolute;border-left: 1px solid gray;box-sizing: border-box;top: 0;bottom: 0;left: 50%;z-index: -1;}#sk-container-id-3 div.sk-parallel-item {display: flex;flex-direction: column;z-index: 1;position: relative;background-color: white;}#sk-container-id-3 div.sk-parallel-item:first-child::after {align-self: flex-end;width: 50%;}#sk-container-id-3 div.sk-parallel-item:last-child::after {align-self: flex-start;width: 50%;}#sk-container-id-3 div.sk-parallel-item:only-child::after {width: 0;}#sk-container-id-3 div.sk-dashed-wrapped {border: 1px dashed gray;margin: 0 0.4em 0.5em 0.4em;box-sizing: border-box;padding-bottom: 0.4em;background-color: white;}#sk-container-id-3 div.sk-label label {font-family: monospace;font-weight: bold;display: inline-block;line-height: 1.2em;}#sk-container-id-3 div.sk-label-container {text-align: center;}#sk-container-id-3 div.sk-container {/* jupyter's `normalize.less` sets `[hidden] { display: none; }` but bootstrap.min.css set `[hidden] { display: none !important; }` so we also need the `!important` here to be able to override the default hidden behavior on the sphinx rendered scikit-learn.org. See: https://github.com/scikit-learn/scikit-learn/issues/21755 */display: inline-block !important;position: relative;}#sk-container-id-3 div.sk-text-repr-fallback {display: none;}</style><div id=\"sk-container-id-3\" class=\"sk-top-container\"><div class=\"sk-text-repr-fallback\"><pre>XGBClassifier(base_score=0.5, booster=&#x27;gbtree&#x27;, callbacks=None,\n",
       "              colsample_bylevel=1, colsample_bynode=1, colsample_bytree=1,\n",
       "              early_stopping_rounds=None, enable_categorical=False,\n",
       "              eval_metric=None, feature_types=None, gamma=0, gpu_id=-1,\n",
       "              grow_policy=&#x27;depthwise&#x27;, importance_type=None,\n",
       "              interaction_constraints=&#x27;&#x27;, learning_rate=0.36, max_bin=256,\n",
       "              max_cat_threshold=64, max_cat_to_onehot=4, max_delta_step=0,\n",
       "              max_depth=6, max_leaves=0, min_child_weight=1, missing=nan,\n",
       "              monotone_constraints=&#x27;()&#x27;, n_estimators=100, n_jobs=0,\n",
       "              num_parallel_tree=1, objective=&#x27;multi:softprob&#x27;, predictor=&#x27;auto&#x27;, ...)</pre><b>In a Jupyter environment, please rerun this cell to show the HTML representation or trust the notebook. <br />On GitHub, the HTML representation is unable to render, please try loading this page with nbviewer.org.</b></div><div class=\"sk-container\" hidden><div class=\"sk-item\"><div class=\"sk-estimator sk-toggleable\"><input class=\"sk-toggleable__control sk-hidden--visually\" id=\"sk-estimator-id-3\" type=\"checkbox\" checked><label for=\"sk-estimator-id-3\" class=\"sk-toggleable__label sk-toggleable__label-arrow\">XGBClassifier</label><div class=\"sk-toggleable__content\"><pre>XGBClassifier(base_score=0.5, booster=&#x27;gbtree&#x27;, callbacks=None,\n",
       "              colsample_bylevel=1, colsample_bynode=1, colsample_bytree=1,\n",
       "              early_stopping_rounds=None, enable_categorical=False,\n",
       "              eval_metric=None, feature_types=None, gamma=0, gpu_id=-1,\n",
       "              grow_policy=&#x27;depthwise&#x27;, importance_type=None,\n",
       "              interaction_constraints=&#x27;&#x27;, learning_rate=0.36, max_bin=256,\n",
       "              max_cat_threshold=64, max_cat_to_onehot=4, max_delta_step=0,\n",
       "              max_depth=6, max_leaves=0, min_child_weight=1, missing=nan,\n",
       "              monotone_constraints=&#x27;()&#x27;, n_estimators=100, n_jobs=0,\n",
       "              num_parallel_tree=1, objective=&#x27;multi:softprob&#x27;, predictor=&#x27;auto&#x27;, ...)</pre></div></div></div></div></div>"
      ],
      "text/plain": [
       "XGBClassifier(base_score=0.5, booster='gbtree', callbacks=None,\n",
       "              colsample_bylevel=1, colsample_bynode=1, colsample_bytree=1,\n",
       "              early_stopping_rounds=None, enable_categorical=False,\n",
       "              eval_metric=None, feature_types=None, gamma=0, gpu_id=-1,\n",
       "              grow_policy='depthwise', importance_type=None,\n",
       "              interaction_constraints='', learning_rate=0.36, max_bin=256,\n",
       "              max_cat_threshold=64, max_cat_to_onehot=4, max_delta_step=0,\n",
       "              max_depth=6, max_leaves=0, min_child_weight=1, missing=nan,\n",
       "              monotone_constraints='()', n_estimators=100, n_jobs=0,\n",
       "              num_parallel_tree=1, objective='multi:softprob', predictor='auto', ...)"
      ]
     },
     "execution_count": 35,
     "metadata": {},
     "output_type": "execute_result"
    }
   ],
   "source": [
    "# build XGBClassifier model\n",
    "xgboostModel = XGBClassifier(n_estimators=100, learning_rate= 0.36)\n",
    "\n",
    "# train data with train_data\n",
    "# xgboostModel.fit(X_train, y_train)\n",
    "xgboostModel.fit(X_train, y_train)\n"
   ]
  },
  {
   "cell_type": "code",
   "execution_count": 36,
   "metadata": {},
   "outputs": [
    {
     "name": "stdout",
     "output_type": "stream",
     "text": [
      "訓練集:  1.0\n",
      "測試集:  0.7031539888682746\n"
     ]
    }
   ],
   "source": [
    "# print the accuracy\n",
    "print('訓練集: ',xgboostModel.score(X_train,y_train))\n",
    "print('測試集: ',xgboostModel.score(X_test,y_test))"
   ]
  }
 ],
 "metadata": {
  "kernelspec": {
   "display_name": "base",
   "language": "python",
   "name": "python3"
  },
  "language_info": {
   "codemirror_mode": {
    "name": "ipython",
    "version": 3
   },
   "file_extension": ".py",
   "mimetype": "text/x-python",
   "name": "python",
   "nbconvert_exporter": "python",
   "pygments_lexer": "ipython3",
   "version": "3.9.13 (main, Aug 25 2022, 23:51:50) [MSC v.1916 64 bit (AMD64)]"
  },
  "orig_nbformat": 4,
  "vscode": {
   "interpreter": {
    "hash": "cfec9ce077408dc39abd08d3e533064f58e310f5c55395ca594f12859fd117f7"
   }
  }
 },
 "nbformat": 4,
 "nbformat_minor": 2
}
